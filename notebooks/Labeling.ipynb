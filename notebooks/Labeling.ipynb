{
 "cells": [
  {
   "cell_type": "markdown",
   "metadata": {},
   "source": [
    "# Requests and BeautifulSoup"
   ]
  },
  {
   "cell_type": "code",
   "execution_count": 116,
   "metadata": {},
   "outputs": [],
   "source": [
    "from bs4 import BeautifulSoup\n",
    "import requests\n",
    "import pandas as pd"
   ]
  },
  {
   "cell_type": "markdown",
   "metadata": {},
   "source": [
    "## Reuters"
   ]
  },
  {
   "cell_type": "code",
   "execution_count": 4,
   "metadata": {},
   "outputs": [],
   "source": [
    "mlist = []\n",
    "b = 0\n",
    "\n",
    "for n in range(1,3275):\n",
    "    session = requests.Session()\n",
    "    response = session.get(f\"https://www.reuters.com/news/archive/marketsNews?view=page&page={n}&pageSize=10\")\n",
    "    bsoup = BeautifulSoup(response.text, \"lxml\")\n",
    "    for article in bsoup.find_all('div', class_= \"story-content\"):\n",
    "        if b <= 9 :\n",
    "            headline = article.p.text\n",
    "            mlist.append(headline)\n",
    "            b += 1\n",
    "        if b == 9 :\n",
    "            break\n",
    "    b = 0        "
   ]
  },
  {
   "cell_type": "markdown",
   "metadata": {},
   "source": [
    "## Financial Times"
   ]
  },
  {
   "cell_type": "code",
   "execution_count": 10,
   "metadata": {},
   "outputs": [],
   "source": [
    "ftlist = []\n",
    "c = 0\n",
    "\n",
    "for n in range(1,200):\n",
    "    session = requests.Session()\n",
    "    response = session.get(f\"https://www.ft.com/companies/financials?page={n}\")\n",
    "    bsoup = BeautifulSoup(response.text, \"lxml\")\n",
    "    for article in bsoup.find_all('div', class_= \"o-teaser__heading\"):\n",
    "        if c <= 19 :\n",
    "            headline = article.a.text\n",
    "            ftlist.append(headline)\n",
    "            c += 1\n",
    "        if c == 19 :\n",
    "            break\n",
    "    c = 0"
   ]
  }
 ],
 "metadata": {
  "kernelspec": {
   "display_name": "Python 3",
   "language": "python",
   "name": "python3"
  },
  "language_info": {
   "codemirror_mode": {
    "name": "ipython",
    "version": 3
   },
   "file_extension": ".py",
   "mimetype": "text/x-python",
   "name": "python",
   "nbconvert_exporter": "python",
   "pygments_lexer": "ipython3",
   "version": "3.8.6"
  }
 },
 "nbformat": 4,
 "nbformat_minor": 4
}
